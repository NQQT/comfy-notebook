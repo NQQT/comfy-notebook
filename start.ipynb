{
 "cells": [
  {
   "cell_type": "code",
   "execution_count": null,
   "id": "initial_id",
   "metadata": {
    "collapsed": true
   },
   "outputs": [],
   "source": [
    "# Returning to Working Directory\n",
    "git_repo_name = \"comfy-notebook\"\n",
    "!rm -rf {git_repo_name}\n",
    "# Running Comfy Setup\n",
    "!git clone --branch feature/venv-upgrade https://github.com/NQQT/{git_repo_name}.git\n",
    "\n",
    "# Run the Setup\n",
    "%run {git_repo_name}/notebook/setup.ipynb\n",
    "\n",
    "# Loading Comfy UI in Kaggle\n",
    "using_custom_kernel()\n",
    "using_kaggle_kernel()\n",
    "using_lightning_kernel()\n",
    "setup_poly_realism()\n",
    "setup_wan_text_2_video_kaggle()\n",
    "setup_wan_img_2_video_kaggle()\n",
    "setup_qwen_image()\n",
    "\n",
    "# Use Pinggy Tunneling (free for an hour)\n",
    "start_pinggy_tunnel(\"--cache-none\")  # Turn off cache to prevent memory leakage"
   ]
  },
  {
   "metadata": {},
   "cell_type": "code",
   "outputs": [],
   "execution_count": null,
   "source": [
    "# Returning to Working Directory\n",
    "git_repo_name = \"comfy-notebook\"\n",
    "!rm -rf {git_repo_name}\n",
    "# Running Comfy Setup\n",
    "!git clone https://github.com/NQQT/{git_repo_name}.git\n",
    "\n",
    "# Run the Setup\n",
    "%run {git_repo_name}/notebook/setup.ipynb\n",
    "\n",
    "# Loading Comfy UI in Kaggle\n",
    "using_kaggle_kernel()\n",
    "setup_wan_img_2_video_kaggle()\n",
    "\n",
    "# Use Pinggy Tunneling (free for an hour)\n",
    "# start_pinggy_tunnel(\"--cache-none\") # Turn off cache to prevent memory leakage"
   ],
   "id": "c0a66e36c2d35b38"
  },
  {
   "metadata": {},
   "cell_type": "code",
   "outputs": [],
   "execution_count": null,
   "source": "",
   "id": "4e0ce82fe5abd0ef"
  }
 ],
 "metadata": {
  "kernelspec": {
   "display_name": "Python 3",
   "language": "python",
   "name": "python3"
  },
  "language_info": {
   "codemirror_mode": {
    "name": "ipython",
    "version": 2
   },
   "file_extension": ".py",
   "mimetype": "text/x-python",
   "name": "python",
   "nbconvert_exporter": "python",
   "pygments_lexer": "ipython2",
   "version": "2.7.6"
  }
 },
 "nbformat": 4,
 "nbformat_minor": 5
}
