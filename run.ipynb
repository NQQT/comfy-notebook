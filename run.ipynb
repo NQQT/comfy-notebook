{
 "cells": [
  {
   "metadata": {},
   "cell_type": "code",
   "outputs": [],
   "execution_count": null,
   "source": [
    "from IPython.display import clear_output\n",
    "\n",
    "# Returning to Working Directory\n",
    "git_repo_name = \"comfy-notebook\"\n",
    "\n",
    "# Remove the repo\n",
    "!rm -rf {git_repo_name}\n",
    "# Running Comfy Setup\n",
    "!git clone --branch feature/venv-upgrade https://github.com/NQQT/{git_repo_name}.git\n",
    "\n",
    "!pip install --upgrade {git_repo_name}/repository\n",
    "!pip install --upgrade {git_repo_name}/nofusion\n",
    "clear_output()"
   ],
   "id": "f74dfc21a0b5333a"
  },
  {
   "metadata": {
    "jupyter": {
     "is_executing": true
    },
    "ExecuteTime": {
     "start_time": "2025-08-15T14:50:52.109045Z"
    }
   },
   "cell_type": "code",
   "outputs": [],
   "execution_count": null,
   "source": [
    "from nofusion.comfy import install_comfy_ui, storage_temporary, start_pinggy_tunnel\n",
    "from nofusion.config import variables\n",
    "from nofusion.install import use_venv\n",
    "from IPython.display import clear_output\n",
    "from nofusion.setup import setup_cyber_realistic\n",
    "\n",
    "variables({\n",
    "    # Require to define the correct root for kaggle\n",
    "    \"root\": \"/kaggle/working\"\n",
    "})\n",
    "\n",
    "# Installing virtual env\n",
    "use_venv()\n",
    "clear_output()\n",
    "\n",
    "install_comfy_ui()\n",
    "clear_output()\n",
    "\n",
    "# Use Temporary Storage\n",
    "storage_temporary()\n",
    "clear_output()\n",
    "\n",
    "# Setting up Cyber realistic\n",
    "setup_cyber_realistic()\n",
    "clear_output()\n",
    "\n",
    "# Just run CPU for now\n",
    "start_pinggy_tunnel()"
   ],
   "id": "6ec79e986b842274"
  },
  {
   "metadata": {},
   "cell_type": "code",
   "outputs": [],
   "source": "",
   "id": "9d0f1bd9908637f9",
   "execution_count": null
  },
  {
   "metadata": {},
   "cell_type": "code",
   "outputs": [],
   "execution_count": null,
   "source": "",
   "id": "7712fad072bc645d"
  }
 ],
 "metadata": {},
 "nbformat": 4,
 "nbformat_minor": 5
}
