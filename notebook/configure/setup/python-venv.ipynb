{
 "cells": [
  {
   "cell_type": "code",
   "execution_count": null,
   "id": "initial_id",
   "metadata": {
    "collapsed": true
   },
   "outputs": [],
   "source": [
    "# This is to set up virtual environment for python3 on Kaggle (to save on import later)\n",
    "\n",
    "import os\n",
    "import sys\n",
    "import stat\n",
    "\n",
    "# For installing virtualenv\n",
    "def install_virtualenv(working_dir = os.getcwd(), python = sys.executable):\n",
    "    # First, install virtualenv\n",
    "    !{python} -m pip install virtualenv\n",
    "\n",
    "    def find_bin_folders(folder_path):\n",
    "        bin_folders = []\n",
    "        for root, dirs, files in os.walk(folder_path):\n",
    "            for dir_name in dirs:\n",
    "                if dir_name == 'bin':\n",
    "                    bin_folders.append(os.path.join(root, dir_name))\n",
    "        return bin_folders\n",
    "\n",
    "    def install_libraries(pip):\n",
    "        nonlocal working_dir\n",
    "\n",
    "        %cd {working_dir}\n",
    "        !{pip} install torch torchvision torchaudio --index-url https://download.pytorch.org/whl/cu121\n",
    "        !{pip} install tensorflow[and-cuda]\n",
    "        # TODO: download req.txt\n",
    "        !wget https://q4j3.c11.e2-5.dev/downloads/req.txt\n",
    "        !{pip} install -r {working_dir}/req.txt\n",
    "\n",
    "\n",
    "    if not os.path.exists(f'{working_dir}/venv'):\n",
    "        print('installing venv')\n",
    "        os.chdir(working_dir)\n",
    "        get_ipython().system(f'cd {working_dir}')\n",
    "\n",
    "        get_ipython().system('virtualenv venv')\n",
    "\n",
    "        # Installing library into venv\n",
    "        install_libraries(f\"{working_dir}/venv/bin/python3 -m pip\")\n",
    "    else:\n",
    "        bin_folders = find_bin_folders(f'{working_dir}/venv')\n",
    "        if bin_folders:\n",
    "          print(\"Found 'bin' folders:\")\n",
    "          for bin_folder in bin_folders:\n",
    "            print(bin_folder)\n",
    "            for filename in os.listdir(bin_folder):\n",
    "                file_path = os.path.join(bin_folder, filename)\n",
    "                if os.path.isfile(file_path):\n",
    "                    current_permissions = os.stat(file_path).st_mode\n",
    "                     # Add execute permissions for the user, group, and others\n",
    "                    os.chmod(file_path, current_permissions | stat.S_IXUSR | stat.S_IXGRP | stat.S_IXOTH)\n",
    "\n",
    "    # Return the location of python3\n",
    "    return f'{working_dir}/venv/bin/python3'\n",
    "\n",
    "    # Creating Symbolic Links, so that python and python3 points to venv environment\n",
    "    # !ln -s {working_dir}/venv/bin/python3 {working_dir}/venv/bin/python"
   ]
  }
 ],
 "metadata": {
  "kernelspec": {
   "display_name": "Python 3",
   "language": "python",
   "name": "python3"
  },
  "language_info": {
   "codemirror_mode": {
    "name": "ipython",
    "version": 2
   },
   "file_extension": ".py",
   "mimetype": "text/x-python",
   "name": "python",
   "nbconvert_exporter": "python",
   "pygments_lexer": "ipython2",
   "version": "2.7.6"
  }
 },
 "nbformat": 4,
 "nbformat_minor": 5
}
