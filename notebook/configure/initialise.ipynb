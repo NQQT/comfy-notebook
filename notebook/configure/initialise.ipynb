{
 "cells": [
  {
   "cell_type": "code",
   "execution_count": null,
   "id": "initial_id",
   "metadata": {
    "collapsed": true
   },
   "outputs": [],
   "source": [
    "#For Initiating Setup\n",
    "\n",
    "# Setting up the notebook directory\n",
    "notebook_dir = f'{working_dir}/{git_repo_name}/notebook/configure'"
   ]
  },
  {
   "metadata": {},
   "cell_type": "code",
   "outputs": [],
   "execution_count": null,
   "source": [
    "# For installing asset controls\n",
    "%run {notebook_dir}/core/function/asset-download.ipynb\n",
    "%run {notebook_dir}/core/function/asset-civitai.ipynb\n",
    "%run {notebook_dir}/core/function/multi-thread.ipynb"
   ],
   "id": "116f71f76cff5399"
  },
  {
   "metadata": {},
   "cell_type": "code",
   "outputs": [],
   "execution_count": null,
   "source": [
    "# Setup for comfy UI\n",
    "%run {notebook_dir}/setup/comfy-ui.ipynb\n",
    "# Installing python functions\n",
    "%run {notebook_dir}/setup/python-venv.ipynb\n",
    "# Setup for Tunneling\n",
    "%run {notebook_dir}/setup/tunneling.ipynb"
   ],
   "id": "a2419ffcc9e0303c"
  },
  {
   "metadata": {},
   "cell_type": "code",
   "outputs": [],
   "execution_count": null,
   "source": [
    "# Workflow Configuration\n",
    "\n",
    "# For Stable Diffusion\n",
    "%run {notebook_dir}/config/workflow/stable-xl.ipynb\n",
    "# For Wan\n",
    "%run {notebook_dir}/config/workflow/wan-video.ipynb\n",
    "# Qwen imaage\n",
    "%run {notebook_dir}/config/workflow/qwen-image.ipynb"
   ],
   "id": "b7f35230d7e255eb"
  }
 ],
 "metadata": {
  "kernelspec": {
   "display_name": "Python 3",
   "language": "python",
   "name": "python3"
  },
  "language_info": {
   "codemirror_mode": {
    "name": "ipython",
    "version": 2
   },
   "file_extension": ".py",
   "mimetype": "text/x-python",
   "name": "python",
   "nbconvert_exporter": "python",
   "pygments_lexer": "ipython2",
   "version": "2.7.6"
  }
 },
 "nbformat": 4,
 "nbformat_minor": 5
}
