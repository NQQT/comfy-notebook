{
 "cells": [
  {
   "cell_type": "code",
   "execution_count": null,
   "id": "initial_id",
   "metadata": {
    "collapsed": true
   },
   "outputs": [],
   "source": [
    "import os\n",
    "import sys\n",
    "\n",
    "# Configure the ComfyUI\n",
    "def configure_comfyui():\n",
    "    # Running installation script\n",
    "    %run {working_dir}/{git_repo_name}/notebook/configure/initialise.ipynb\n",
    "    # Running installation script\n",
    "    %run {working_dir}/{git_repo_name}/notebook/nodes/initialise.ipynb\n",
    "\n",
    "    # installing comfy_ui\n",
    "    install_comfy_ui()\n",
    "    # installing custom nodes\n",
    "    install_custom_nodes()\n",
    "\n",
    "# For you to define the customer kernel. That is, where to install\n",
    "def using_custom_kernel(python_root = sys.executable, home_dir = os.getcwd()):\n",
    "    # Defining Global Working Directory\n",
    "    global working_dir, python, pip\n",
    "    # Definning the working directory\n",
    "    working_dir = home_dir\n",
    "    python = python_root\n",
    "    pip = f\"{python} -m pip\"\n",
    "\n",
    "    # Configuring ComfyUI\n",
    "    configure_comfyui()\n",
    "\n",
    "# Using Kaggle Kernel. Execute this function\n",
    "def using_kaggle_kernel():\n",
    "    # Defining Global Working Directory\n",
    "    global working_dir, python, pip\n",
    "    # Setting th working directory\n",
    "    working_dir = \"/kaggle/working\"\n",
    "    #!rm -rf /kaggle/working/venv\n",
    "    python = f'{working_dir}/venv/bin/python'\n",
    "    pip = f'{working_dir}/venv/bin/pip'\n",
    "\n",
    "    # Running installation script for new environment\n",
    "    %run {working_dir}/{git_repo_name}/notebook/configure/setup/python-venv.ipynb\n",
    "\n",
    "    # Setting up file manager\n",
    "    # Running installation script for new environment\n",
    "    %run {working_dir}/{git_repo_name}/notebook/configure/setup/file-manager.ipynb\n",
    "\n",
    "    # Configuring ComfyUI for Kaggle\n",
    "    configure_comfyui()\n",
    "\n",
    "def using_lightning_kernel():\n",
    "    # Defining Global Working Directory\n",
    "    global working_dir, python, pip\n",
    "    installed = \"/home/zeus/miniconda3/envs/cloudspace/bin\"\n",
    "    # Setting th working directory\n",
    "    # This is always the working directory\n",
    "    working_dir = '/teamspace/studios/this_studio'\n",
    "    python = f\"{installed}/python\"\n",
    "    pip = f\"{installed}/pip\"\n",
    "\n",
    "    # Panda should be upgraded to prevent some errors\n",
    "    !{pip} install --upgrade pandas\n",
    "    # Need to update torch audio to proper version\n",
    "    !{pip} install torchaudio==2.7.1\n",
    "\n",
    "    # Configure the ComfyUI\n",
    "    configure_comfyui()\n",
    "\n"
   ]
  },
  {
   "metadata": {
    "ExecuteTime": {
     "end_time": "2025-08-11T13:25:20.385359Z",
     "start_time": "2025-08-11T13:25:20.346106Z"
    }
   },
   "cell_type": "code",
   "source": [
    "from noobish import setup_virtualenv\n",
    "\n",
    "print(setup_virtualenv)"
   ],
   "id": "29638f44b52465dc",
   "outputs": [
    {
     "name": "stdout",
     "output_type": "stream",
     "text": [
      "<function setup_virtualenv at 0x000001E7B8EFB740>\n"
     ]
    }
   ],
   "execution_count": 2
  },
  {
   "metadata": {},
   "cell_type": "code",
   "outputs": [],
   "execution_count": null,
   "source": "",
   "id": "da6f2e69e8bdc17e"
  }
 ],
 "metadata": {
  "kernelspec": {
   "display_name": "Python 3",
   "language": "python",
   "name": "python3"
  },
  "language_info": {
   "codemirror_mode": {
    "name": "ipython",
    "version": 2
   },
   "file_extension": ".py",
   "mimetype": "text/x-python",
   "name": "python",
   "nbconvert_exporter": "python",
   "pygments_lexer": "ipython2",
   "version": "2.7.6"
  }
 },
 "nbformat": 4,
 "nbformat_minor": 5
}
